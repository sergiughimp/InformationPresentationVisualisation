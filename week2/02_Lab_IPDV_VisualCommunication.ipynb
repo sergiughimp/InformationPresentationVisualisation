{
 "cells": [
  {
   "cell_type": "markdown",
   "id": "5dffa7ec",
   "metadata": {},
   "source": [
    "# Information Presentation & Data Visualisation"
   ]
  },
  {
   "cell_type": "markdown",
   "id": "0d8d66b8",
   "metadata": {},
   "source": [
    "## 02 Lab Exercise sheet: Visual communication"
   ]
  },
  {
   "cell_type": "markdown",
   "id": "1dc0a386",
   "metadata": {},
   "source": [
    "This lab is designed to introduce key concepts in data visualisation, including data types, encoding channels, and graphical marks using the Altair library (Vega grammar) in Python."
   ]
  },
  {
   "cell_type": "markdown",
   "id": "d629fba2",
   "metadata": {},
   "source": [
    "## Task 1: Explore the Movies dataset "
   ]
  },
  {
   "cell_type": "markdown",
   "id": "4d042bef",
   "metadata": {},
   "source": [
    "a) Load the movies dataset, b) inspect data tyles and c) count the number of movies by Genre"
   ]
  },
  {
   "cell_type": "code",
   "execution_count": null,
   "id": "8ba12d3e",
   "metadata": {},
   "outputs": [],
   "source": []
  },
  {
   "cell_type": "markdown",
   "id": "4d27c124",
   "metadata": {},
   "source": [
    "## Task 2: Create basic visualisations"
   ]
  },
  {
   "cell_type": "markdown",
   "id": "3a618615",
   "metadata": {},
   "source": [
    "a) bar chart showing the number of movies by major genre, b) histgram of movies based on Rotten Tomattoes rating and c) scatter plot of Worldwide_ross against Production_Budget "
   ]
  },
  {
   "cell_type": "code",
   "execution_count": null,
   "id": "e8222476",
   "metadata": {},
   "outputs": [],
   "source": []
  },
  {
   "cell_type": "markdown",
   "id": "1b906a80",
   "metadata": {},
   "source": [
    "## Task 3: Add Interactivity to visualisations"
   ]
  },
  {
   "cell_type": "markdown",
   "id": "b60f9d5c",
   "metadata": {},
   "source": [
    "a) add tooltips to the scatter plot and b) add a slider to filter movies by Rotten Tomattoes rating"
   ]
  },
  {
   "cell_type": "code",
   "execution_count": null,
   "id": "54090399",
   "metadata": {},
   "outputs": [],
   "source": []
  },
  {
   "cell_type": "markdown",
   "id": "f6c7f811",
   "metadata": {},
   "source": [
    "## Task 4: Build a mini dashboard"
   ]
  },
  {
   "cell_type": "markdown",
   "id": "723365b5",
   "metadata": {},
   "source": [
    "Combine the charts into a dashboard using vconcat and hconcat"
   ]
  },
  {
   "cell_type": "code",
   "execution_count": null,
   "id": "860fdb4a",
   "metadata": {},
   "outputs": [],
   "source": []
  },
  {
   "cell_type": "markdown",
   "id": "81b98bf9",
   "metadata": {},
   "source": [
    "## Task 5:  Analyze and interpret data visualisations of movies (Writing Intensive)"
   ]
  },
  {
   "cell_type": "markdown",
   "id": "d68909f6",
   "metadata": {},
   "source": [
    "Select one of your visualisations and a) DESCRIBE: What do you see? b) ANALYSE: How is the work organised? c) What are the visual encodings? d)TASK: What is the purpose of the visualisation? and e) DECIDE: Is this a successful (effective) visualisation?\n"
   ]
  },
  {
   "cell_type": "code",
   "execution_count": null,
   "id": "f10fff03",
   "metadata": {},
   "outputs": [],
   "source": []
  },
  {
   "cell_type": "markdown",
   "id": "e91f397c",
   "metadata": {},
   "source": [
    "### Worksheets should be submitted on Canvas by the Monday after the lab at 23:59."
   ]
  }
 ],
 "metadata": {
  "kernelspec": {
   "display_name": "Python 3 (ipykernel)",
   "language": "python",
   "name": "python3"
  },
  "language_info": {
   "codemirror_mode": {
    "name": "ipython",
    "version": 3
   },
   "file_extension": ".py",
   "mimetype": "text/x-python",
   "name": "python",
   "nbconvert_exporter": "python",
   "pygments_lexer": "ipython3",
   "version": "3.10.13"
  }
 },
 "nbformat": 4,
 "nbformat_minor": 5
}
