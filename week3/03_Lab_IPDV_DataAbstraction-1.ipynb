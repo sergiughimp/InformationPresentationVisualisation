{
 "cells": [
  {
   "cell_type": "markdown",
   "id": "5dffa7ec",
   "metadata": {},
   "source": [
    "# Information Presentation & Data Visualisation"
   ]
  },
  {
   "cell_type": "markdown",
   "id": "0d8d66b8",
   "metadata": {},
   "source": [
    "## 03 Lab Exercise sheet: Data abstraction"
   ]
  },
  {
   "cell_type": "markdown",
   "id": "1dc0a386",
   "metadata": {},
   "source": [
    "This lab focuses on practising the selection of appropriate data visualisations in Python by matching them to specific task abstractions. For examples, see: https://altair-viz.github.io/gallery/index.html"
   ]
  },
  {
   "cell_type": "markdown",
   "id": "d9cbdc5f",
   "metadata": {},
   "source": [
    "## Task 1: Import libraries and load datasets"
   ]
  },
  {
   "cell_type": "code",
   "execution_count": null,
   "id": "2d8f5223",
   "metadata": {},
   "outputs": [],
   "source": []
  },
  {
   "cell_type": "markdown",
   "id": "4d27c124",
   "metadata": {},
   "source": [
    "## Task 2: Create a scatter plot"
   ]
  },
  {
   "cell_type": "markdown",
   "id": "3a618615",
   "metadata": {},
   "source": [
    "a) Create a scatter plot using the \"cars\" dataset to visualise the relationship between \"Horsepower\" and \"Miles Per Gallon. Set the colour of the points to a specific RGB triplet (e.g.,'rgb(255, 0, 0)' for red)."
   ]
  },
  {
   "cell_type": "code",
   "execution_count": null,
   "id": "2d5f4842",
   "metadata": {},
   "outputs": [],
   "source": []
  },
  {
   "cell_type": "markdown",
   "id": "1b906a80",
   "metadata": {},
   "source": [
    "## Task 3: Create a line plot"
   ]
  },
  {
   "cell_type": "markdown",
   "id": "b60f9d5c",
   "metadata": {},
   "source": [
    "a) Create a line plot to visualise the trend of maximum temperature over time in the \"seattle_weather\" dataset. Set the background to \"grey\" and the lines to \"black\"."
   ]
  },
  {
   "cell_type": "code",
   "execution_count": null,
   "id": "d4ec0a1d",
   "metadata": {},
   "outputs": [],
   "source": []
  },
  {
   "cell_type": "markdown",
   "id": "f6c7f811",
   "metadata": {},
   "source": [
    "## Task 4: Create a bar chart"
   ]
  },
  {
   "cell_type": "markdown",
   "id": "723365b5",
   "metadata": {},
   "source": [
    "Create a bar chart to visualise the distribution of population across different age groups in the \"population\" dataset."
   ]
  },
  {
   "cell_type": "code",
   "execution_count": null,
   "id": "f822d4a4",
   "metadata": {},
   "outputs": [],
   "source": []
  },
  {
   "cell_type": "markdown",
   "id": "81b98bf9",
   "metadata": {},
   "source": [
    "## Task 5:  Create a stacked bar chart"
   ]
  },
  {
   "cell_type": "markdown",
   "id": "d68909f6",
   "metadata": {},
   "source": [
    "Create a stacked bar chart to visualise the contribution of different energy sources (e.g., fossil, renewables) to the total net electricity generation in Iowa (dataset: \"iowa_electricity\") over time.\n"
   ]
  },
  {
   "cell_type": "code",
   "execution_count": null,
   "id": "6ac3319e",
   "metadata": {},
   "outputs": [],
   "source": []
  },
  {
   "cell_type": "markdown",
   "id": "363bfe15",
   "metadata": {},
   "source": [
    "## Task 6: Create a streamgraph"
   ]
  },
  {
   "cell_type": "markdown",
   "id": "c109007a",
   "metadata": {},
   "source": [
    "Create a streamgraph to visualise the changing proportions of unemployment across the \"Education and Health\" and \"Information\" sectors over time using the \"unemployment_across_industries\" dataset."
   ]
  },
  {
   "cell_type": "code",
   "execution_count": null,
   "id": "bbca03df",
   "metadata": {},
   "outputs": [],
   "source": []
  },
  {
   "cell_type": "markdown",
   "id": "b7df7a38",
   "metadata": {},
   "source": [
    "## Task 7: Create an indexed line chart"
   ]
  },
  {
   "cell_type": "markdown",
   "id": "b0f6726b",
   "metadata": {},
   "source": [
    "Create an indexed line chart to visualise the relative price movements of different stocks over time using the \"stocks\" dataset."
   ]
  },
  {
   "cell_type": "code",
   "execution_count": null,
   "id": "235ac3dc",
   "metadata": {},
   "outputs": [],
   "source": []
  },
  {
   "cell_type": "markdown",
   "id": "1672b7b2",
   "metadata": {},
   "source": [
    "## Task 7: Create a heatmap"
   ]
  },
  {
   "cell_type": "markdown",
   "id": "e1f4e68b",
   "metadata": {},
   "source": [
    "Create a heatmap to visualise the relationship between flight distance and average arrival delay in the \"flights_5k\" dataset. Try out different colour schemes."
   ]
  },
  {
   "cell_type": "code",
   "execution_count": null,
   "id": "113aeabd",
   "metadata": {},
   "outputs": [],
   "source": []
  },
  {
   "cell_type": "markdown",
   "id": "47acf0e3",
   "metadata": {},
   "source": [
    "## Task 8: Create a parallel coordinates plot"
   ]
  },
  {
   "cell_type": "markdown",
   "id": "0eac4ffb",
   "metadata": {},
   "source": [
    "Create a parallel coordinates plot to visualise the relationships between sepal length, sepal width, petal length, and petal width for different species of Iris flowers in the \"iris\" dataset."
   ]
  },
  {
   "cell_type": "code",
   "execution_count": null,
   "id": "4e8c52e1",
   "metadata": {},
   "outputs": [],
   "source": []
  },
  {
   "cell_type": "markdown",
   "id": "0d7181d0",
   "metadata": {},
   "source": [
    "## Task 9: Create a pie chart"
   ]
  },
  {
   "cell_type": "markdown",
   "id": "fc625a65",
   "metadata": {},
   "source": [
    "Create a pie chart to visualise the distribution of cars based on their country of origin in the \"cars\" dataset."
   ]
  },
  {
   "cell_type": "markdown",
   "id": "e91f397c",
   "metadata": {},
   "source": [
    "### Worksheets should be submitted on Canvas by the Monday after the lab at 23:59."
   ]
  }
 ],
 "metadata": {
  "kernelspec": {
   "display_name": "Python 3 (ipykernel)",
   "language": "python",
   "name": "python3"
  },
  "language_info": {
   "codemirror_mode": {
    "name": "ipython",
    "version": 3
   },
   "file_extension": ".py",
   "mimetype": "text/x-python",
   "name": "python",
   "nbconvert_exporter": "python",
   "pygments_lexer": "ipython3",
   "version": "3.12.2"
  }
 },
 "nbformat": 4,
 "nbformat_minor": 5
}
